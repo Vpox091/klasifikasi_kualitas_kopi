{
 "cells": [
  {
   "cell_type": "markdown",
   "id": "a956d627-1365-4d87-8989-a7cdca72baac",
   "metadata": {},
   "source": [
    "# Klasifikasi Kualitas Kopi\n",
    "\n",
    "Step by step membuat machine learning multiclass classification untuk memprediksi kualitas kopi termasuk kategori *Baik, Sedang atau Buruk* berdasarkan fiur *Kadar kafein, Tingkat keasaman, dan Jenis proses*\n",
    "\n",
    "Kita akan menggunakan :\n",
    "- *StandarScalaer* untuk menyamakan rentang angka\n",
    "- *OneHotEncoder* untuk memgubah tulisan menjadi angka\n",
    "- *Pipeline* dan *ColumnTransformer* untuk  merangkai beberapa step sekaligus"
   ]
  },
  {
   "cell_type": "code",
   "execution_count": 23,
   "id": "9a8a0682-a865-4ab3-bd77-aa0c2cc5dfeb",
   "metadata": {},
   "outputs": [
    {
     "data": {
      "text/html": [
       "<div>\n",
       "<style scoped>\n",
       "    .dataframe tbody tr th:only-of-type {\n",
       "        vertical-align: middle;\n",
       "    }\n",
       "\n",
       "    .dataframe tbody tr th {\n",
       "        vertical-align: top;\n",
       "    }\n",
       "\n",
       "    .dataframe thead th {\n",
       "        text-align: right;\n",
       "    }\n",
       "</style>\n",
       "<table border=\"1\" class=\"dataframe\">\n",
       "  <thead>\n",
       "    <tr style=\"text-align: right;\">\n",
       "      <th></th>\n",
       "      <th>Kadar Kafein</th>\n",
       "      <th>Tingkat Keasaman</th>\n",
       "      <th>Jenis Proses</th>\n",
       "      <th>Kualitas Kopi</th>\n",
       "    </tr>\n",
       "  </thead>\n",
       "  <tbody>\n",
       "    <tr>\n",
       "      <th>0</th>\n",
       "      <td>71.676050</td>\n",
       "      <td>4.505419</td>\n",
       "      <td>Honey</td>\n",
       "      <td>Buruk</td>\n",
       "    </tr>\n",
       "    <tr>\n",
       "      <th>1</th>\n",
       "      <td>89.899105</td>\n",
       "      <td>4.777716</td>\n",
       "      <td>Honey</td>\n",
       "      <td>Buruk</td>\n",
       "    </tr>\n",
       "    <tr>\n",
       "      <th>2</th>\n",
       "      <td>101.782740</td>\n",
       "      <td>5.987926</td>\n",
       "      <td>Washed</td>\n",
       "      <td>Sedang</td>\n",
       "    </tr>\n",
       "    <tr>\n",
       "      <th>3</th>\n",
       "      <td>112.958351</td>\n",
       "      <td>5.145615</td>\n",
       "      <td>Natural</td>\n",
       "      <td>Baik</td>\n",
       "    </tr>\n",
       "    <tr>\n",
       "      <th>4</th>\n",
       "      <td>68.571363</td>\n",
       "      <td>4.934300</td>\n",
       "      <td>Honey</td>\n",
       "      <td>Buruk</td>\n",
       "    </tr>\n",
       "    <tr>\n",
       "      <th>...</th>\n",
       "      <td>...</td>\n",
       "      <td>...</td>\n",
       "      <td>...</td>\n",
       "      <td>...</td>\n",
       "    </tr>\n",
       "    <tr>\n",
       "      <th>295</th>\n",
       "      <td>105.346259</td>\n",
       "      <td>5.511636</td>\n",
       "      <td>Washed</td>\n",
       "      <td>Sedang</td>\n",
       "    </tr>\n",
       "    <tr>\n",
       "      <th>296</th>\n",
       "      <td>114.917455</td>\n",
       "      <td>5.150439</td>\n",
       "      <td>Natural</td>\n",
       "      <td>Baik</td>\n",
       "    </tr>\n",
       "    <tr>\n",
       "      <th>297</th>\n",
       "      <td>99.558838</td>\n",
       "      <td>5.612135</td>\n",
       "      <td>Washed</td>\n",
       "      <td>Sedang</td>\n",
       "    </tr>\n",
       "    <tr>\n",
       "      <th>298</th>\n",
       "      <td>88.621531</td>\n",
       "      <td>4.803087</td>\n",
       "      <td>Honey</td>\n",
       "      <td>Buruk</td>\n",
       "    </tr>\n",
       "    <tr>\n",
       "      <th>299</th>\n",
       "      <td>98.192872</td>\n",
       "      <td>5.504599</td>\n",
       "      <td>Washed</td>\n",
       "      <td>Sedang</td>\n",
       "    </tr>\n",
       "  </tbody>\n",
       "</table>\n",
       "<p>300 rows × 4 columns</p>\n",
       "</div>"
      ],
      "text/plain": [
       "     Kadar Kafein  Tingkat Keasaman Jenis Proses Kualitas Kopi\n",
       "0       71.676050          4.505419        Honey         Buruk\n",
       "1       89.899105          4.777716        Honey         Buruk\n",
       "2      101.782740          5.987926       Washed        Sedang\n",
       "3      112.958351          5.145615      Natural          Baik\n",
       "4       68.571363          4.934300        Honey         Buruk\n",
       "..            ...               ...          ...           ...\n",
       "295    105.346259          5.511636       Washed        Sedang\n",
       "296    114.917455          5.150439      Natural          Baik\n",
       "297     99.558838          5.612135       Washed        Sedang\n",
       "298     88.621531          4.803087        Honey         Buruk\n",
       "299     98.192872          5.504599       Washed        Sedang\n",
       "\n",
       "[300 rows x 4 columns]"
      ]
     },
     "execution_count": 23,
     "metadata": {},
     "output_type": "execute_result"
    }
   ],
   "source": [
    "import pandas as pd\n",
    "df=pd.read_csv(\"dataset_kualitas_kopi.csv\")\n",
    "df"
   ]
  },
  {
   "cell_type": "code",
   "execution_count": 12,
   "id": "0a22ce43-1b85-40c0-b6a3-efb49c0e7ae7",
   "metadata": {},
   "outputs": [
    {
     "data": {
      "text/plain": [
       "(300, 4)"
      ]
     },
     "execution_count": 12,
     "metadata": {},
     "output_type": "execute_result"
    }
   ],
   "source": [
    "df.shape"
   ]
  },
  {
   "cell_type": "code",
   "execution_count": 15,
   "id": "b7825e1e-5312-456a-a632-f7817a3877c3",
   "metadata": {},
   "outputs": [
    {
     "data": {
      "text/plain": [
       "Index(['Kadar Kafein', 'Tingkat Keasaman', 'Jenis Proses', 'Kualitas Kopi'], dtype='object')"
      ]
     },
     "execution_count": 15,
     "metadata": {},
     "output_type": "execute_result"
    }
   ],
   "source": [
    "df.columns"
   ]
  },
  {
   "cell_type": "code",
   "execution_count": 17,
   "id": "80875c39-4d3f-4841-9eb4-05470a236361",
   "metadata": {},
   "outputs": [
    {
     "data": {
      "text/plain": [
       "Kadar Kafein        float64\n",
       "Tingkat Keasaman    float64\n",
       "Jenis Proses         object\n",
       "Kualitas Kopi        object\n",
       "dtype: object"
      ]
     },
     "execution_count": 17,
     "metadata": {},
     "output_type": "execute_result"
    }
   ],
   "source": [
    "df.dtypes"
   ]
  },
  {
   "cell_type": "code",
   "execution_count": 20,
   "id": "caf5a3bf-e855-46ad-b8ec-707c45d08e8c",
   "metadata": {},
   "outputs": [
    {
     "name": "stdout",
     "output_type": "stream",
     "text": [
      "<class 'pandas.core.frame.DataFrame'>\n",
      "RangeIndex: 300 entries, 0 to 299\n",
      "Data columns (total 4 columns):\n",
      " #   Column            Non-Null Count  Dtype  \n",
      "---  ------            --------------  -----  \n",
      " 0   Kadar Kafein      300 non-null    float64\n",
      " 1   Tingkat Keasaman  300 non-null    float64\n",
      " 2   Jenis Proses      300 non-null    object \n",
      " 3   Kualitas Kopi     300 non-null    object \n",
      "dtypes: float64(2), object(2)\n",
      "memory usage: 9.5+ KB\n"
     ]
    }
   ],
   "source": [
    "df.info()"
   ]
  },
  {
   "cell_type": "code",
   "execution_count": 24,
   "id": "7db5d287-8c55-4899-a475-95769096d7f9",
   "metadata": {},
   "outputs": [
    {
     "data": {
      "text/html": [
       "<div>\n",
       "<style scoped>\n",
       "    .dataframe tbody tr th:only-of-type {\n",
       "        vertical-align: middle;\n",
       "    }\n",
       "\n",
       "    .dataframe tbody tr th {\n",
       "        vertical-align: top;\n",
       "    }\n",
       "\n",
       "    .dataframe thead th {\n",
       "        text-align: right;\n",
       "    }\n",
       "</style>\n",
       "<table border=\"1\" class=\"dataframe\">\n",
       "  <thead>\n",
       "    <tr style=\"text-align: right;\">\n",
       "      <th></th>\n",
       "      <th>Kadar Kafein</th>\n",
       "      <th>Tingkat Keasaman</th>\n",
       "    </tr>\n",
       "  </thead>\n",
       "  <tbody>\n",
       "    <tr>\n",
       "      <th>count</th>\n",
       "      <td>300.000000</td>\n",
       "      <td>300.000000</td>\n",
       "    </tr>\n",
       "    <tr>\n",
       "      <th>mean</th>\n",
       "      <td>94.880478</td>\n",
       "      <td>5.255010</td>\n",
       "    </tr>\n",
       "    <tr>\n",
       "      <th>std</th>\n",
       "      <td>18.612343</td>\n",
       "      <td>0.423348</td>\n",
       "    </tr>\n",
       "    <tr>\n",
       "      <th>min</th>\n",
       "      <td>60.340609</td>\n",
       "      <td>4.505419</td>\n",
       "    </tr>\n",
       "    <tr>\n",
       "      <th>25%</th>\n",
       "      <td>80.885090</td>\n",
       "      <td>4.912739</td>\n",
       "    </tr>\n",
       "    <tr>\n",
       "      <th>50%</th>\n",
       "      <td>96.469407</td>\n",
       "      <td>5.249464</td>\n",
       "    </tr>\n",
       "    <tr>\n",
       "      <th>75%</th>\n",
       "      <td>108.570401</td>\n",
       "      <td>5.622462</td>\n",
       "    </tr>\n",
       "    <tr>\n",
       "      <th>max</th>\n",
       "      <td>129.569514</td>\n",
       "      <td>5.995027</td>\n",
       "    </tr>\n",
       "  </tbody>\n",
       "</table>\n",
       "</div>"
      ],
      "text/plain": [
       "       Kadar Kafein  Tingkat Keasaman\n",
       "count    300.000000        300.000000\n",
       "mean      94.880478          5.255010\n",
       "std       18.612343          0.423348\n",
       "min       60.340609          4.505419\n",
       "25%       80.885090          4.912739\n",
       "50%       96.469407          5.249464\n",
       "75%      108.570401          5.622462\n",
       "max      129.569514          5.995027"
      ]
     },
     "execution_count": 24,
     "metadata": {},
     "output_type": "execute_result"
    }
   ],
   "source": [
    "df.describe()"
   ]
  },
  {
   "cell_type": "code",
   "execution_count": 27,
   "id": "35011340-d0f1-459e-88fe-80d5ed6b3ad3",
   "metadata": {},
   "outputs": [
    {
     "data": {
      "text/html": [
       "<div>\n",
       "<style scoped>\n",
       "    .dataframe tbody tr th:only-of-type {\n",
       "        vertical-align: middle;\n",
       "    }\n",
       "\n",
       "    .dataframe tbody tr th {\n",
       "        vertical-align: top;\n",
       "    }\n",
       "\n",
       "    .dataframe thead th {\n",
       "        text-align: right;\n",
       "    }\n",
       "</style>\n",
       "<table border=\"1\" class=\"dataframe\">\n",
       "  <thead>\n",
       "    <tr style=\"text-align: right;\">\n",
       "      <th></th>\n",
       "      <th>Kadar Kafein</th>\n",
       "      <th>Tingkat Keasaman</th>\n",
       "      <th>Jenis Proses</th>\n",
       "      <th>Kualitas Kopi</th>\n",
       "    </tr>\n",
       "  </thead>\n",
       "  <tbody>\n",
       "    <tr>\n",
       "      <th>0</th>\n",
       "      <td>71.676050</td>\n",
       "      <td>4.505419</td>\n",
       "      <td>Honey</td>\n",
       "      <td>Buruk</td>\n",
       "    </tr>\n",
       "    <tr>\n",
       "      <th>1</th>\n",
       "      <td>89.899105</td>\n",
       "      <td>4.777716</td>\n",
       "      <td>Honey</td>\n",
       "      <td>Buruk</td>\n",
       "    </tr>\n",
       "    <tr>\n",
       "      <th>2</th>\n",
       "      <td>101.782740</td>\n",
       "      <td>5.987926</td>\n",
       "      <td>Washed</td>\n",
       "      <td>Sedang</td>\n",
       "    </tr>\n",
       "    <tr>\n",
       "      <th>3</th>\n",
       "      <td>112.958351</td>\n",
       "      <td>5.145615</td>\n",
       "      <td>Natural</td>\n",
       "      <td>Baik</td>\n",
       "    </tr>\n",
       "    <tr>\n",
       "      <th>4</th>\n",
       "      <td>68.571363</td>\n",
       "      <td>4.934300</td>\n",
       "      <td>Honey</td>\n",
       "      <td>Buruk</td>\n",
       "    </tr>\n",
       "  </tbody>\n",
       "</table>\n",
       "</div>"
      ],
      "text/plain": [
       "   Kadar Kafein  Tingkat Keasaman Jenis Proses Kualitas Kopi\n",
       "0     71.676050          4.505419        Honey         Buruk\n",
       "1     89.899105          4.777716        Honey         Buruk\n",
       "2    101.782740          5.987926       Washed        Sedang\n",
       "3    112.958351          5.145615      Natural          Baik\n",
       "4     68.571363          4.934300        Honey         Buruk"
      ]
     },
     "execution_count": 27,
     "metadata": {},
     "output_type": "execute_result"
    }
   ],
   "source": [
    "df.head()"
   ]
  },
  {
   "cell_type": "code",
   "execution_count": 29,
   "id": "8018e55f-300c-4a08-8689-9f217947cc84",
   "metadata": {},
   "outputs": [
    {
     "data": {
      "text/html": [
       "<div>\n",
       "<style scoped>\n",
       "    .dataframe tbody tr th:only-of-type {\n",
       "        vertical-align: middle;\n",
       "    }\n",
       "\n",
       "    .dataframe tbody tr th {\n",
       "        vertical-align: top;\n",
       "    }\n",
       "\n",
       "    .dataframe thead th {\n",
       "        text-align: right;\n",
       "    }\n",
       "</style>\n",
       "<table border=\"1\" class=\"dataframe\">\n",
       "  <thead>\n",
       "    <tr style=\"text-align: right;\">\n",
       "      <th></th>\n",
       "      <th>Kadar Kafein</th>\n",
       "      <th>Tingkat Keasaman</th>\n",
       "      <th>Jenis Proses</th>\n",
       "      <th>Kualitas Kopi</th>\n",
       "    </tr>\n",
       "  </thead>\n",
       "  <tbody>\n",
       "    <tr>\n",
       "      <th>295</th>\n",
       "      <td>105.346259</td>\n",
       "      <td>5.511636</td>\n",
       "      <td>Washed</td>\n",
       "      <td>Sedang</td>\n",
       "    </tr>\n",
       "    <tr>\n",
       "      <th>296</th>\n",
       "      <td>114.917455</td>\n",
       "      <td>5.150439</td>\n",
       "      <td>Natural</td>\n",
       "      <td>Baik</td>\n",
       "    </tr>\n",
       "    <tr>\n",
       "      <th>297</th>\n",
       "      <td>99.558838</td>\n",
       "      <td>5.612135</td>\n",
       "      <td>Washed</td>\n",
       "      <td>Sedang</td>\n",
       "    </tr>\n",
       "    <tr>\n",
       "      <th>298</th>\n",
       "      <td>88.621531</td>\n",
       "      <td>4.803087</td>\n",
       "      <td>Honey</td>\n",
       "      <td>Buruk</td>\n",
       "    </tr>\n",
       "    <tr>\n",
       "      <th>299</th>\n",
       "      <td>98.192872</td>\n",
       "      <td>5.504599</td>\n",
       "      <td>Washed</td>\n",
       "      <td>Sedang</td>\n",
       "    </tr>\n",
       "  </tbody>\n",
       "</table>\n",
       "</div>"
      ],
      "text/plain": [
       "     Kadar Kafein  Tingkat Keasaman Jenis Proses Kualitas Kopi\n",
       "295    105.346259          5.511636       Washed        Sedang\n",
       "296    114.917455          5.150439      Natural          Baik\n",
       "297     99.558838          5.612135       Washed        Sedang\n",
       "298     88.621531          4.803087        Honey         Buruk\n",
       "299     98.192872          5.504599       Washed        Sedang"
      ]
     },
     "execution_count": 29,
     "metadata": {},
     "output_type": "execute_result"
    }
   ],
   "source": [
    "df.tail()"
   ]
  },
  {
   "cell_type": "code",
   "execution_count": 32,
   "id": "2ea76be5-b2d6-4fb0-ace7-cf0b06747afa",
   "metadata": {},
   "outputs": [
    {
     "data": {
      "text/plain": [
       "Jenis Proses\n",
       "Natural    103\n",
       "Honey      101\n",
       "Washed      96\n",
       "Name: count, dtype: int64"
      ]
     },
     "execution_count": 32,
     "metadata": {},
     "output_type": "execute_result"
    }
   ],
   "source": [
    "df[\"Jenis Proses\"].value_counts()"
   ]
  },
  {
   "cell_type": "code",
   "execution_count": 36,
   "id": "dab72ee4-5233-4091-bfb5-37f475afe97f",
   "metadata": {},
   "outputs": [
    {
     "data": {
      "text/plain": [
       "Kualitas Kopi\n",
       "Baik      103\n",
       "Buruk      99\n",
       "Sedang     98\n",
       "Name: count, dtype: int64"
      ]
     },
     "execution_count": 36,
     "metadata": {},
     "output_type": "execute_result"
    }
   ],
   "source": [
    "df[\"Kualitas Kopi\"].value_counts()"
   ]
  },
  {
   "cell_type": "code",
   "execution_count": 49,
   "id": "377755dd-4af1-4556-af41-49b515df1a6d",
   "metadata": {},
   "outputs": [
    {
     "data": {
      "image/png": "[encoded data removed]",
      "text/plain": [
       "<Figure size 600x500 with 1 Axes>"
      ]
     },
     "metadata": {},
     "output_type": "display_data"
    }
   ],
   "source": [
    "import matplotlib.pyplot as plt\n",
    "baik=df[df[\"Kualitas Kopi\"]==\"Baik\"]\n",
    "sedang=df[df[\"Kualitas Kopi\"]==\"Sedang\"]\n",
    "buruk=df[df[\"Kualitas Kopi\"]==\"Buruk\"]\n",
    "plt.figure(figsize=(6,5))\n",
    "plt.scatter(baik[\"Kadar Kafein\"],baik[\"Tingkat Keasaman\"],s=100,color=\"green\",alpha=0.6,label=\"Baik\")\n",
    "plt.scatter(sedang[\"Kadar Kafein\"],sedang[\"Tingkat Keasaman\"],s=100,color=\"orange\",alpha=0.6,label=\"Sedang\")\n",
    "plt.scatter(buruk[\"Kadar Kafein\"],buruk[\"Tingkat Keasaman\"],s=100,color=\"red\",alpha=0.6,label=\"Buruk\")\n",
    "plt.xlabel(\"Kadar Kafein\")\n",
    "plt.ylabel(\"Tingkat Keasaman\")\n",
    "plt.legend()\n",
    "plt.grid(True,linestyle=\"--\",alpha=0.5)\n",
    "plt.show()"
   ]
  },
  {
   "cell_type": "code",
   "execution_count": 74,
   "id": "d978c2ca-05cb-46b2-bd7f-b21a538bbf6c",
   "metadata": {},
   "outputs": [],
   "source": [
    "from sklearn.linear_model import LogisticRegression\n",
    "from sklearn.model_selection import train_test_split\n",
    "from sklearn.metrics import accuracy_score\n",
    "from sklearn.preprocessing import StandardScaler,OneHotEncoder\n",
    "from sklearn.pipeline import Pipeline\n",
    "from sklearn.compose import ColumnTransformer\n",
    "import joblib\n",
    "X=df[[\"Kadar Kafein\",\"Tingkat Keasaman\",\"Jenis Proses\"]]\n",
    "y=df[\"Kualitas Kopi\"]\n",
    "X_train,X_test,y_train,y_test=train_test_split(X,y,test_size=0.2,random_state=42)\n",
    "numeric_columns=[\"Kadar Kafein\",\"Tingkat Keasaman\"]\n",
    "categorical_columns=[\"Jenis Proses\"]\n",
    "preprocessing=ColumnTransformer(transformers=[(\"scaler\",StandardScaler(),numeric_columns),(\"onehot\",OneHotEncoder(handle_unknown=\"ignore\"),categorical_columns)])"
   ]
  },
  {
   "cell_type": "code",
   "execution_count": 69,
   "id": "c195dbd7-c264-4d4a-9464-52e2eaa0d494",
   "metadata": {},
   "outputs": [
    {
     "name": "stdout",
     "output_type": "stream",
     "text": [
      "Akurasi : 0.9666666666666667\n"
     ]
    }
   ],
   "source": [
    "model=Pipeline(steps=[(\"preprocessing\",preprocessing),(\"model\",LogisticRegression(max_iter=1000))])\n",
    "model.fit(X_train,y_train)\n",
    "y_pred=model.predict(X_test)\n",
    "print(\"Akurasi :\",accuracy_score(y_test,y_pred))"
   ]
  },
  {
   "cell_type": "code",
   "execution_count": 73,
   "id": "9d7f03b1-a958-4ec6-9ed6-0542295f61ce",
   "metadata": {},
   "outputs": [
    {
     "name": "stdout",
     "output_type": "stream",
     "text": [
      "Model memprediksi Buruk dengan tingkat keyakinan 72.66%\n"
     ]
    },
    {
     "data": {
      "text/plain": [
       "['model_klasifikasi_kualitas_kopi.joblib']"
      ]
     },
     "execution_count": 73,
     "metadata": {},
     "output_type": "execute_result"
    }
   ],
   "source": [
    "data_baru=pd.DataFrame([[90,5,\"Honey\"]],columns=[\"Kadar Kafein\",\"Tingkat Keasaman\",\"Jenis Proses\"])\n",
    "prediksi=(model.predict(data_baru)[0])\n",
    "presentase=max(model.predict_proba(data_baru)[0])\n",
    "print(f\"Model memprediksi {prediksi} dengan tingkat keyakinan {presentase*100:.2f}%\")\n",
    "joblib.dump(model,\"model_klasifikasi_kualitas_kopi.joblib\")"
   ]
  }
 ],
 "metadata": {
  "kernelspec": {
   "display_name": "Python 3 (ipykernel)",
   "language": "python",
   "name": "python3"
  },
  "language_info": {
   "codemirror_mode": {
    "name": "ipython",
    "version": 3
   },
   "file_extension": ".py",
   "mimetype": "text/x-python",
   "name": "python",
   "nbconvert_exporter": "python",
   "pygments_lexer": "ipython3",
   "version": "3.13.5"
  }
 },
 "nbformat": 4,
 "nbformat_minor": 5
}
